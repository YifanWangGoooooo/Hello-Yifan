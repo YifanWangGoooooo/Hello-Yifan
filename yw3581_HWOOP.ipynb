{
 "cells": [
  {
   "cell_type": "markdown",
   "metadata": {},
   "source": [
    "<subject>\n",
    "Assignment How-To\n",
    "</subject>\n",
    "\n",
    "<details>\n",
    "    \n",
    "**Do Not Talk During Quizzes or Exams**\n",
    "\n",
    "Do not talk at all once an exam has begun. You may talk again once you leave the room after the quiz or exam. The one exception to this rule is if you need to ask the exam proctor a question. Any talking during a quiz or exam qualifies the student for disciplinary action.\n",
    "\n",
    "**Naming Conventions**\n",
    "\n",
    "When naming your files for upload, you must follow the format below:\n",
    "\n",
    "    <uni>_<assignment>_<details [optional]>.<extension>\n",
    "\n",
    "For example, if I needed to hand in HW 0, any of the below formats would be sufficient for a file name:\n",
    "\n",
    "- pl2648_hw0.ipynb\n",
    "- pl2648_hw0.txt\n",
    "- pl2648_hw0.sh\n",
    "- pl2648_hw0_all_in_one.txt\n",
    "- Pl2648_hw0_bash_program.sh\n",
    "- Pl2648_quiz1.ipynb\n",
    "\n",
    "This naming format allows for autograding of all assignments. If your files are not named with this format, you should expect a grade of zero for the assignment.\n",
    "\n",
    "Courseworks may rename your file to something like `pl2648_hw0-1.ipynb` if you resubmit your assignment. This is perfectly fine.\n",
    "\n",
    "**What Format To Submit In**\n",
    "\n",
    "Most homework and quizzes are in Jupyter notebooks. Unless specified otherwise, please download your work as an `.ipynb` file from your local machine and upload it to courseworks.\n",
    "\n",
    "\n",
    "**Grading**\n",
    "\n",
    "Possible points on late assignments are deducted by 50% for each day they are late. For example, if you get 80% of the total possible credits on a homework but hand in that homework a day late, you would get 40%. Assignments two days late get zero points.\n",
    "\n",
    "Once solutions are posted and graded assignments are handed back, students have 1 week to bring their grading discrepancies to a CA for consideration of possible grading errors. \n",
    "\n",
    "Because grading is automated, please delete (or comment out) the `raise NotImplmeneted` code before attempting a problem. \n",
    "\n",
    "Empty un-editable cells in an assignment are there for a purpose. They will be filled with tests by the automatic grader. Please do not attempt to remove them.\n",
    "\n",
    "**Getting Help**\n",
    "\n",
    "Asking for help is a great way to increase your chance of success. However there are some rules. When asking for help (especially from a fellow student), *you can show your helper your code but you can not view theirs*. You work needs to be your own. You can not post screenshots of your current work to Piazza or other tools used for getting help.\n",
    "\n",
    "If you need to reach out to a CA for help, please do so via Piazza and not via email. Answers given via Piazza will help you as well as other students. Thus, emails will always have a lower priority for response than Piazza questions. If you do email the CA, please make a note of what section you are in. This helps us identify you in courseworks faster. \n",
    "\n",
    "Finally, if you do not get a repsonse from a CA within 48 hours, you may email the professor.\n",
    "\n",
    "**Multiple Choice**\n",
    "\n",
    "If the question is multiple choice, you will be given several options to choose from and your function will need to return **one** of those options **verbatim** as a string.\n",
    "\n",
    "For example: \n",
    "\n",
    "Which of the following animals bark?\n",
    "\n",
    "- dogs\n",
    "- cats\n",
    "- fish\n",
    "- trees\n",
    "\n",
    "A correct answer would be structured in the following way:\n",
    "\n",
    "```python\n",
    "def question_animals():\n",
    "    return 'dogs'\n",
    "```\n",
    "\n",
    "You answer will be stripped of left and right white space and lowercased before comparison to the correct answer during grading.\n",
    "</details>"
   ]
  },
  {
   "cell_type": "markdown",
   "metadata": {
    "deletable": false,
    "editable": false,
    "nbgrader": {
     "cell_type": "markdown",
     "checksum": "5ce57493ea6b1a4b03627d0dfacbaece",
     "grade": false,
     "grade_id": "cell-c9bc6e54a6b7eb86",
     "locked": true,
     "schema_version": 3,
     "solution": false
    }
   },
   "source": [
    "**Q**: Create a object that represents a store. Have the initialization method take the square footage of the store. Create a method that can calculate the electrical costs for the store given:\n",
    "\n",
    "- $0.15 per kWh\n",
    "- kWh per square foot per hour of 0.19\n",
    "\n",
    "Ensure your class has the following API:\n",
    "\n",
    "Instance attributes: \n",
    "- `square_footage`\n",
    "\n",
    "Class level attributes:\n",
    "- DOLLARS_PER_KWH\n",
    "- KWH_PER_SQUARE_FOOTAGE_PER_HOUR\n",
    "\n",
    "The method that calculates the electrical cost for the store should be named `electrical_cost`.\n",
    "\n",
    "[2 points]"
   ]
  },
  {
   "cell_type": "code",
   "execution_count": 1,
   "metadata": {
    "deletable": false,
    "execution": {
     "iopub.execute_input": "2021-03-13T21:32:50.950526Z",
     "iopub.status.busy": "2021-03-13T21:32:50.949936Z",
     "iopub.status.idle": "2021-03-13T21:32:50.951932Z",
     "shell.execute_reply": "2021-03-13T21:32:50.952519Z"
    },
    "nbgrader": {
     "cell_type": "code",
     "checksum": "e52069d21697b30db32d49c865f5aa65",
     "grade": false,
     "grade_id": "cell-e0ff639912440f53",
     "locked": false,
     "schema_version": 3,
     "solution": true
    }
   },
   "outputs": [],
   "source": [
    "class Store:\n",
    "    \n",
    "    DOLLARS_PER_KWH = 0.15\n",
    "    KWH_PER_SQUARE_FOOTAGE_PER_HOUR = 0.19\n",
    "    \n",
    "    def __init__(self,square_footage):\n",
    "        self.square_footage = square_footage\n",
    "        \n",
    "    def electrical_cost(self,hour):\n",
    "        self.electrical_cost=self.square_footage * hour * Store.KWH_PER_SQUARE_FOOTAGE_PER_HOUR * Store.DOLLARS_PER_KWH\n",
    "        return self.electrical_cost\n",
    "        "
   ]
  },
  {
   "cell_type": "code",
   "execution_count": 2,
   "metadata": {
    "deletable": false,
    "editable": false,
    "execution": {
     "iopub.execute_input": "2021-03-13T21:32:50.956009Z",
     "iopub.status.busy": "2021-03-13T21:32:50.955432Z",
     "iopub.status.idle": "2021-03-13T21:32:50.957039Z",
     "shell.execute_reply": "2021-03-13T21:32:50.957594Z"
    },
    "nbgrader": {
     "cell_type": "code",
     "checksum": "c7faa8b066daa31d4b89ff75be890c0c",
     "grade": true,
     "grade_id": "cell-78899230c51c73e2",
     "locked": true,
     "points": 0.25,
     "schema_version": 3,
     "solution": false,
     "task": false
    }
   },
   "outputs": [],
   "source": [
    "### BEGIN TESTS\n",
    "assert not hasattr(Store, 'square_footage')\n",
    "### END TESTS"
   ]
  },
  {
   "cell_type": "code",
   "execution_count": 3,
   "metadata": {
    "deletable": false,
    "editable": false,
    "execution": {
     "iopub.execute_input": "2021-03-13T21:32:50.960485Z",
     "iopub.status.busy": "2021-03-13T21:32:50.959963Z",
     "iopub.status.idle": "2021-03-13T21:32:50.961500Z",
     "shell.execute_reply": "2021-03-13T21:32:50.962051Z"
    },
    "nbgrader": {
     "cell_type": "code",
     "checksum": "cc10aa28d98ce1ada7596f7182cf3efb",
     "grade": true,
     "grade_id": "cell-e4863bba06d08e3f",
     "locked": true,
     "points": 0.25,
     "schema_version": 3,
     "solution": false
    }
   },
   "outputs": [],
   "source": [
    "### BEGIN TESTS\n",
    "assert Store(2000).square_footage == 2000\n",
    "### END TESTS"
   ]
  },
  {
   "cell_type": "code",
   "execution_count": 4,
   "metadata": {
    "deletable": false,
    "editable": false,
    "execution": {
     "iopub.execute_input": "2021-03-13T21:32:50.964715Z",
     "iopub.status.busy": "2021-03-13T21:32:50.964212Z",
     "iopub.status.idle": "2021-03-13T21:32:50.965765Z",
     "shell.execute_reply": "2021-03-13T21:32:50.966246Z"
    },
    "nbgrader": {
     "cell_type": "code",
     "checksum": "2b5ae42622f5f8b813ba703603f95f23",
     "grade": true,
     "grade_id": "cell-47704c4e3e538b07",
     "locked": true,
     "points": 0.25,
     "schema_version": 3,
     "solution": false
    }
   },
   "outputs": [],
   "source": [
    "### BEGIN TESTS\n",
    "assert hasattr(Store, 'DOLLARS_PER_KWH')\n",
    "### END TESTS"
   ]
  },
  {
   "cell_type": "code",
   "execution_count": 5,
   "metadata": {
    "deletable": false,
    "editable": false,
    "execution": {
     "iopub.execute_input": "2021-03-13T21:32:50.968596Z",
     "iopub.status.busy": "2021-03-13T21:32:50.968115Z",
     "iopub.status.idle": "2021-03-13T21:32:50.969511Z",
     "shell.execute_reply": "2021-03-13T21:32:50.969957Z"
    },
    "nbgrader": {
     "cell_type": "code",
     "checksum": "319a2e5fa3c8069ca02e94aca091902e",
     "grade": true,
     "grade_id": "cell-72b0af5f335f9ade",
     "locked": true,
     "points": 0.25,
     "schema_version": 3,
     "solution": false,
     "task": false
    }
   },
   "outputs": [],
   "source": [
    "### BEGIN TESTS\n",
    "assert hasattr(Store, 'KWH_PER_SQUARE_FOOTAGE_PER_HOUR')\n",
    "### END TESTS"
   ]
  },
  {
   "cell_type": "code",
   "execution_count": 6,
   "metadata": {
    "deletable": false,
    "editable": false,
    "execution": {
     "iopub.execute_input": "2021-03-13T21:32:50.972251Z",
     "iopub.status.busy": "2021-03-13T21:32:50.971823Z",
     "iopub.status.idle": "2021-03-13T21:32:50.973212Z",
     "shell.execute_reply": "2021-03-13T21:32:50.973679Z"
    },
    "nbgrader": {
     "cell_type": "code",
     "checksum": "cc2c0348ff1f64644e54eeba1fe93ba1",
     "grade": true,
     "grade_id": "cell-da6780d986482482",
     "locked": true,
     "points": 0.25,
     "schema_version": 3,
     "solution": false,
     "task": false
    }
   },
   "outputs": [],
   "source": [
    "### BEGIN TESTS\n",
    "assert Store.DOLLARS_PER_KWH == 0.15\n",
    "### END TESTS"
   ]
  },
  {
   "cell_type": "code",
   "execution_count": 7,
   "metadata": {
    "deletable": false,
    "editable": false,
    "execution": {
     "iopub.execute_input": "2021-03-13T21:32:50.976097Z",
     "iopub.status.busy": "2021-03-13T21:32:50.975646Z",
     "iopub.status.idle": "2021-03-13T21:32:50.977052Z",
     "shell.execute_reply": "2021-03-13T21:32:50.977504Z"
    },
    "nbgrader": {
     "cell_type": "code",
     "checksum": "6c30fe91fb790d2615fb988889357e56",
     "grade": true,
     "grade_id": "cell-094c43f4a0ba194f",
     "locked": true,
     "points": 0.25,
     "schema_version": 3,
     "solution": false,
     "task": false
    }
   },
   "outputs": [],
   "source": [
    "### BEGIN TESTS\n",
    "assert Store.KWH_PER_SQUARE_FOOTAGE_PER_HOUR == 0.19\n",
    "### END TESTS"
   ]
  },
  {
   "cell_type": "code",
   "execution_count": 8,
   "metadata": {
    "deletable": false,
    "editable": false,
    "execution": {
     "iopub.execute_input": "2021-03-13T21:32:50.979983Z",
     "iopub.status.busy": "2021-03-13T21:32:50.979527Z",
     "iopub.status.idle": "2021-03-13T21:32:50.981069Z",
     "shell.execute_reply": "2021-03-13T21:32:50.981553Z"
    },
    "nbgrader": {
     "cell_type": "code",
     "checksum": "51de1805a496d1f37dc6e415c4d2772d",
     "grade": true,
     "grade_id": "cell-32758bf2fddd6948",
     "locked": true,
     "points": 0.25,
     "schema_version": 3,
     "solution": false,
     "task": false
    }
   },
   "outputs": [],
   "source": [
    "### BEGIN TESTS\n",
    "assert callable(Store(2000).electrical_cost)\n",
    "### END TESTS"
   ]
  },
  {
   "cell_type": "code",
   "execution_count": 9,
   "metadata": {
    "deletable": false,
    "editable": false,
    "execution": {
     "iopub.execute_input": "2021-03-13T21:32:50.984425Z",
     "iopub.status.busy": "2021-03-13T21:32:50.983969Z",
     "iopub.status.idle": "2021-03-13T21:32:50.985364Z",
     "shell.execute_reply": "2021-03-13T21:32:50.985825Z"
    },
    "nbgrader": {
     "cell_type": "code",
     "checksum": "ff6239ddb68067a71be0ef880f2b0ebf",
     "grade": true,
     "grade_id": "cell-e9ab2e3e055a711f",
     "locked": true,
     "points": 0.25,
     "schema_version": 3,
     "solution": false
    }
   },
   "outputs": [],
   "source": [
    "### BEGIN TESTS\n",
    "assert Store(2000).electrical_cost(900) == 51300\n",
    "### END TESTS"
   ]
  },
  {
   "cell_type": "markdown",
   "metadata": {
    "deletable": false,
    "editable": false,
    "nbgrader": {
     "cell_type": "markdown",
     "checksum": "dcd792515cfce745295a9814b086436d",
     "grade": false,
     "grade_id": "cell-b242d4bfddbf0838",
     "locked": true,
     "schema_version": 3,
     "solution": false
    }
   },
   "source": [
    "**Q**: Create a counter class that takes a string and can produce (via a method named `count`) a `dict` containing each word in the string as its keys and the counts of each word in the string as its values. Words are any token separated by a space. The class should not be case sensitive (ie. \"It\" and \"it\" are the same word).\n",
    "\n",
    "\n",
    "```python\n",
    ">>> c = Counter('This is my best string. It is a great string.')\n",
    ">>> c.count()\n",
    "{'a': 1,\n",
    " 'best': 1,\n",
    " 'great': 1,\n",
    " 'is': 2,\n",
    " 'it': 1,\n",
    " 'my': 1,\n",
    " 'string.': 2,\n",
    " 'this': 1}\n",
    " ```\n",
    " \n",
    "**Class API**\n",
    "\n",
    "Instance attributes:\n",
    "  - \"string\"\n",
    "  \n",
    "You can not use the collections module.\n",
    " \n",
    "[2 points]"
   ]
  },
  {
   "cell_type": "code",
   "execution_count": 10,
   "metadata": {
    "deletable": false,
    "execution": {
     "iopub.execute_input": "2021-03-13T21:32:50.989608Z",
     "iopub.status.busy": "2021-03-13T21:32:50.989172Z",
     "iopub.status.idle": "2021-03-13T21:32:50.990625Z",
     "shell.execute_reply": "2021-03-13T21:32:50.991085Z"
    },
    "nbgrader": {
     "cell_type": "code",
     "checksum": "e107b0a887fc915580c72beea0a30e64",
     "grade": false,
     "grade_id": "cell-0be5d346f805f3fb",
     "locked": false,
     "schema_version": 3,
     "solution": true
    }
   },
   "outputs": [],
   "source": [
    "class Counter:\n",
    "    \n",
    "    def __init__(self,string):\n",
    "        self.string=string\n",
    "        \n",
    "    def count(self):\n",
    "        dic = dict()\n",
    "        lower_string = self.string.lower()\n",
    "        words = lower_string.split()\n",
    "        \n",
    "        for word in words:\n",
    "            if word in dic:\n",
    "                dic[word] = dic[word] + 1\n",
    "            else:\n",
    "                dic[word] = 1\n",
    "                \n",
    "        self.dic = dic\n",
    "        \n",
    "        return self.dic"
   ]
  },
  {
   "cell_type": "code",
   "execution_count": 11,
   "metadata": {
    "deletable": false,
    "editable": false,
    "execution": {
     "iopub.execute_input": "2021-03-13T21:32:50.993615Z",
     "iopub.status.busy": "2021-03-13T21:32:50.993202Z",
     "iopub.status.idle": "2021-03-13T21:32:50.994738Z",
     "shell.execute_reply": "2021-03-13T21:32:50.995181Z"
    },
    "nbgrader": {
     "cell_type": "code",
     "checksum": "d4f17c08bae746031383210f1414152c",
     "grade": true,
     "grade_id": "cell-59639940597f3439",
     "locked": true,
     "points": 0.25,
     "schema_version": 3,
     "solution": false
    }
   },
   "outputs": [],
   "source": [
    "### BEGIN TESTS\n",
    "counter = Counter('This is my best string. It is a great string.')\n",
    "assert len(counter.count()) == 8\n",
    "### END TESTS"
   ]
  },
  {
   "cell_type": "code",
   "execution_count": 12,
   "metadata": {
    "deletable": false,
    "editable": false,
    "execution": {
     "iopub.execute_input": "2021-03-13T21:32:50.998227Z",
     "iopub.status.busy": "2021-03-13T21:32:50.997707Z",
     "iopub.status.idle": "2021-03-13T21:32:50.999328Z",
     "shell.execute_reply": "2021-03-13T21:32:50.999784Z"
    },
    "nbgrader": {
     "cell_type": "code",
     "checksum": "ebc00e7f4e5d02a4c9e26b393e88a199",
     "grade": true,
     "grade_id": "cell-a8f67550bdfc6edd",
     "locked": true,
     "points": 0.25,
     "schema_version": 3,
     "solution": false,
     "task": false
    }
   },
   "outputs": [],
   "source": [
    "### BEGIN TESTS\n",
    "counter = Counter('')\n",
    "assert len(counter.count()) == 0\n",
    "### END TESTS"
   ]
  },
  {
   "cell_type": "code",
   "execution_count": 13,
   "metadata": {
    "deletable": false,
    "editable": false,
    "execution": {
     "iopub.execute_input": "2021-03-13T21:32:51.003084Z",
     "iopub.status.busy": "2021-03-13T21:32:51.002570Z",
     "iopub.status.idle": "2021-03-13T21:32:51.004199Z",
     "shell.execute_reply": "2021-03-13T21:32:51.004743Z"
    },
    "nbgrader": {
     "cell_type": "code",
     "checksum": "c1c295fbc9781a5abf90d5a82a37efa6",
     "grade": true,
     "grade_id": "cell-ea0b8e76389a0ae2",
     "locked": true,
     "points": 0.25,
     "schema_version": 3,
     "solution": false
    }
   },
   "outputs": [],
   "source": [
    "### BEGIN TESTS\n",
    "counter = Counter('This is my best string. It is a great string.')\n",
    "assert hasattr(counter, 'string')\n",
    "### END TESTS"
   ]
  },
  {
   "cell_type": "code",
   "execution_count": 14,
   "metadata": {
    "deletable": false,
    "editable": false,
    "execution": {
     "iopub.execute_input": "2021-03-13T21:32:51.007673Z",
     "iopub.status.busy": "2021-03-13T21:32:51.007217Z",
     "iopub.status.idle": "2021-03-13T21:32:51.008620Z",
     "shell.execute_reply": "2021-03-13T21:32:51.009074Z"
    },
    "nbgrader": {
     "cell_type": "code",
     "checksum": "2b3e1f2343cc8fa5465e4023d7a6fb85",
     "grade": true,
     "grade_id": "cell-9aa8b06a3d7baaaf",
     "locked": true,
     "points": 0.25,
     "schema_version": 3,
     "solution": false,
     "task": false
    }
   },
   "outputs": [],
   "source": [
    "### BEGIN TESTS\n",
    "counter = Counter('This is my best string. It is a great string.')\n",
    "assert not hasattr(Counter, 'string')\n",
    "### END TESTS"
   ]
  },
  {
   "cell_type": "code",
   "execution_count": 15,
   "metadata": {
    "deletable": false,
    "editable": false,
    "execution": {
     "iopub.execute_input": "2021-03-13T21:32:51.012814Z",
     "iopub.status.busy": "2021-03-13T21:32:51.012185Z",
     "iopub.status.idle": "2021-03-13T21:32:51.014469Z",
     "shell.execute_reply": "2021-03-13T21:32:51.014002Z"
    },
    "nbgrader": {
     "cell_type": "code",
     "checksum": "f5a2f21f3a44032e22c3335bf0d1eca0",
     "grade": true,
     "grade_id": "cell-91fa2691c9bea2eb",
     "locked": true,
     "points": 0.25,
     "schema_version": 3,
     "solution": false
    }
   },
   "outputs": [],
   "source": [
    "### BEGIN HIDDEN TESTS\n",
    "counter = Counter('What what what? What is this? Do you know what this is?')\n",
    "result = counter.count()\n",
    "expected = {\n",
    "    'do': 1,\n",
    "    'is': 1,\n",
    "    'is?': 1,\n",
    "    'know': 1,\n",
    "    'this': 1,\n",
    "    'this?': 1,\n",
    "    'what': 4,\n",
    "    'what?': 1,\n",
    "    'you': 1\n",
    "}\n",
    "assert result == expected\n",
    "### END HIDDEN TESTS"
   ]
  },
  {
   "cell_type": "code",
   "execution_count": 16,
   "metadata": {
    "deletable": false,
    "editable": false,
    "execution": {
     "iopub.execute_input": "2021-03-13T21:32:51.017237Z",
     "iopub.status.busy": "2021-03-13T21:32:51.016814Z",
     "iopub.status.idle": "2021-03-13T21:32:51.018284Z",
     "shell.execute_reply": "2021-03-13T21:32:51.018741Z"
    },
    "nbgrader": {
     "cell_type": "code",
     "checksum": "8566783830055ff99aaba7a4a1e0be03",
     "grade": true,
     "grade_id": "cell-b3934871fd7f7a25",
     "locked": true,
     "points": 0.25,
     "schema_version": 3,
     "solution": false,
     "task": false
    }
   },
   "outputs": [],
   "source": [
    "### BEGIN HIDDEN TESTS\n",
    "counter = Counter('What what what? What is this? Do you know what this is?')\n",
    "result = counter.count()\n",
    "assert result['what'] == 4\n",
    "assert result['what?'] == 1\n",
    "### END HIDDEN TESTS"
   ]
  },
  {
   "cell_type": "code",
   "execution_count": 17,
   "metadata": {
    "deletable": false,
    "editable": false,
    "execution": {
     "iopub.execute_input": "2021-03-13T21:32:51.021256Z",
     "iopub.status.busy": "2021-03-13T21:32:51.020764Z",
     "iopub.status.idle": "2021-03-13T21:32:51.022136Z",
     "shell.execute_reply": "2021-03-13T21:32:51.022626Z"
    },
    "nbgrader": {
     "cell_type": "code",
     "checksum": "ea738dd4ed79b3af5b9603c14ebd3ea0",
     "grade": true,
     "grade_id": "cell-fbb2ec3c367fafd9",
     "locked": true,
     "points": 0.25,
     "schema_version": 3,
     "solution": false,
     "task": false
    }
   },
   "outputs": [],
   "source": [
    "### BEGIN HIDDEN TESTS\n",
    "counter = Counter('What what what? What is this? Do you know what this is?')\n",
    "result = counter.count()\n",
    "assert 'Do' not in result\n",
    "### END HIDDEN TESTS"
   ]
  },
  {
   "cell_type": "code",
   "execution_count": 18,
   "metadata": {
    "deletable": false,
    "editable": false,
    "execution": {
     "iopub.execute_input": "2021-03-13T21:32:51.025147Z",
     "iopub.status.busy": "2021-03-13T21:32:51.024711Z",
     "iopub.status.idle": "2021-03-13T21:32:51.026080Z",
     "shell.execute_reply": "2021-03-13T21:32:51.026524Z"
    },
    "nbgrader": {
     "cell_type": "code",
     "checksum": "df464f06e486f5caf673d3beb55213a5",
     "grade": true,
     "grade_id": "cell-69816282ea2b630d",
     "locked": true,
     "points": 0.25,
     "schema_version": 3,
     "solution": false,
     "task": false
    }
   },
   "outputs": [],
   "source": [
    " ### BEGIN HIDDEN TESTS\n",
    "counter = Counter('What what what? What is this? Do you know what this is?')\n",
    "result = counter.count()\n",
    "assert ' ' not in result\n",
    "### END HIDDEN TESTS"
   ]
  },
  {
   "cell_type": "markdown",
   "metadata": {
    "deletable": false,
    "editable": false,
    "nbgrader": {
     "cell_type": "markdown",
     "checksum": "9ddd5c44242a0468b025be389fc0d693",
     "grade": false,
     "grade_id": "cell-4459d9e5b57a0683",
     "locked": true,
     "schema_version": 3,
     "solution": false
    }
   },
   "source": [
    "**Q**: Update the counter class to have the appropriate methods for presentation when being passed to `repr` and `str`. `repr` should return the object class name and a truncated version of the counter's string. The string should be truncated to 10 characters and an ellipsis added if the string is over 10 characters. `str` should return the object class name and the key count.\n",
    "\n",
    "You may need to search the Python documentation for the correct methods to implement for this problem.\n",
    "\n",
    "```python\n",
    ">>> obj = Counter('Fe Fi Fo Fum, where is my drum')\n",
    ">>> repr(obj)\n",
    "<Counter 'Fe Fi Fo F...'>\n",
    ">>> str(obj)\n",
    "'Counter(8)'\n",
    "```\n",
    "\n",
    "[1 point]"
   ]
  },
  {
   "cell_type": "code",
   "execution_count": 19,
   "metadata": {
    "deletable": false,
    "execution": {
     "iopub.execute_input": "2021-03-13T21:32:51.030532Z",
     "iopub.status.busy": "2021-03-13T21:32:51.030063Z",
     "iopub.status.idle": "2021-03-13T21:32:51.031547Z",
     "shell.execute_reply": "2021-03-13T21:32:51.031995Z"
    },
    "nbgrader": {
     "cell_type": "code",
     "checksum": "7916798bf3e7903e017a3c38f168b06b",
     "grade": false,
     "grade_id": "cell-eff92fe808b528d9",
     "locked": false,
     "schema_version": 3,
     "solution": true
    }
   },
   "outputs": [],
   "source": [
    "class Counter:\n",
    "    \n",
    "    def __init__(self,string):\n",
    "        self.string=string\n",
    "        \n",
    "    def count(self):\n",
    "        dic = dict()\n",
    "        lower_string = self.string.lower()\n",
    "        words = lower_string.split()\n",
    "        for word in words:\n",
    "            if word in dic:\n",
    "                dic[word] = dic[word] + 1\n",
    "            else:\n",
    "                dic[word] = 1\n",
    "        self.dic = dic\n",
    "        return self.dic\n",
    "    \n",
    "    def __repr__(self):\n",
    "        if len(self.string)>10:\n",
    "            return f\"<Counter '{self.string[0:10]+'...'}'>\"\n",
    "        else:\n",
    "            return f\"<Counter '{self.string}'>\"\n",
    "    \n",
    "    def __str__(self):\n",
    "        return f'Counter({len(Counter.count(self))})'"
   ]
  },
  {
   "cell_type": "code",
   "execution_count": 20,
   "metadata": {
    "deletable": false,
    "editable": false,
    "execution": {
     "iopub.execute_input": "2021-03-13T21:32:51.034307Z",
     "iopub.status.busy": "2021-03-13T21:32:51.033892Z",
     "iopub.status.idle": "2021-03-13T21:32:51.035348Z",
     "shell.execute_reply": "2021-03-13T21:32:51.035807Z"
    },
    "nbgrader": {
     "cell_type": "code",
     "checksum": "12474d9ecb15e4aa5e1eb31553beeb63",
     "grade": true,
     "grade_id": "cell-42a5d9c016cae56f",
     "locked": true,
     "points": 0.25,
     "schema_version": 3,
     "solution": false
    }
   },
   "outputs": [],
   "source": [
    "### BEGIN HIDDEN TESTS\n",
    "assert hasattr(Counter, '__repr__')\n",
    "assert hasattr(Counter, '__str__')\n",
    "### END HIDDEN TESTS"
   ]
  },
  {
   "cell_type": "code",
   "execution_count": 21,
   "metadata": {
    "deletable": false,
    "editable": false,
    "execution": {
     "iopub.execute_input": "2021-03-13T21:32:51.038282Z",
     "iopub.status.busy": "2021-03-13T21:32:51.037764Z",
     "iopub.status.idle": "2021-03-13T21:32:51.039218Z",
     "shell.execute_reply": "2021-03-13T21:32:51.039671Z"
    },
    "nbgrader": {
     "cell_type": "code",
     "checksum": "adc68d16d6b743255007c289a57d9445",
     "grade": true,
     "grade_id": "cell-76d7e759c0c50b24",
     "locked": true,
     "points": 0.25,
     "schema_version": 3,
     "solution": false
    }
   },
   "outputs": [],
   "source": [
    "### BEGIN TESTS\n",
    "counter = Counter('This is my best string. It is a great string.')\n",
    "assert repr(counter) == \"<Counter 'This is my...'>\"\n",
    "### END TESTS"
   ]
  },
  {
   "cell_type": "code",
   "execution_count": 22,
   "metadata": {
    "deletable": false,
    "editable": false,
    "execution": {
     "iopub.execute_input": "2021-03-13T21:32:51.042057Z",
     "iopub.status.busy": "2021-03-13T21:32:51.041566Z",
     "iopub.status.idle": "2021-03-13T21:32:51.043048Z",
     "shell.execute_reply": "2021-03-13T21:32:51.043499Z"
    },
    "nbgrader": {
     "cell_type": "code",
     "checksum": "d7a64feec8dc1cd4f6981ff3ae98f36f",
     "grade": true,
     "grade_id": "cell-a6990dafdb2b143c",
     "locked": true,
     "points": 0.25,
     "schema_version": 3,
     "solution": false
    }
   },
   "outputs": [],
   "source": [
    "### BEGIN TESTS\n",
    "counter = Counter('Woot woot!')\n",
    "assert repr(counter) == \"<Counter 'Woot woot!'>\"\n",
    "### END TESTS"
   ]
  },
  {
   "cell_type": "code",
   "execution_count": 23,
   "metadata": {
    "deletable": false,
    "editable": false,
    "execution": {
     "iopub.execute_input": "2021-03-13T21:32:51.045958Z",
     "iopub.status.busy": "2021-03-13T21:32:51.045454Z",
     "iopub.status.idle": "2021-03-13T21:32:51.046890Z",
     "shell.execute_reply": "2021-03-13T21:32:51.047337Z"
    },
    "nbgrader": {
     "cell_type": "code",
     "checksum": "f6eef9fb2a92fda7bc9a0b1c81c4b4a4",
     "grade": true,
     "grade_id": "cell-d5d109b50b154b18",
     "locked": true,
     "points": 0.25,
     "schema_version": 3,
     "solution": false
    }
   },
   "outputs": [],
   "source": [
    "### BEGIN TESTS\n",
    "counter = Counter('This is my best string. It is a great string.')\n",
    "assert str(counter) == 'Counter(8)'\n",
    "### END TESTS"
   ]
  },
  {
   "cell_type": "markdown",
   "metadata": {
    "deletable": false,
    "editable": false,
    "nbgrader": {
     "cell_type": "markdown",
     "checksum": "c3e8bde805351fff6a3d2bd91a647d29",
     "grade": false,
     "grade_id": "cell-80bd99f06e0f551a",
     "locked": true,
     "schema_version": 3,
     "solution": false
    }
   },
   "source": [
    "**Q**: Create a custom exception for a severe lack of parties. It should be called `SevereLackOfPartiesError` and should subclass `ValueError`. The class should have a docstring that describes what the error represents. Use your imagination for the exact text. \n",
    "\n",
    "[1 point]"
   ]
  },
  {
   "cell_type": "code",
   "execution_count": 24,
   "metadata": {
    "deletable": false,
    "execution": {
     "iopub.execute_input": "2021-03-13T21:32:51.049942Z",
     "iopub.status.busy": "2021-03-13T21:32:51.049503Z",
     "iopub.status.idle": "2021-03-13T21:32:51.050873Z",
     "shell.execute_reply": "2021-03-13T21:32:51.051319Z"
    },
    "nbgrader": {
     "cell_type": "code",
     "checksum": "4a8a7947db5dcb7e18b73a51f713317c",
     "grade": false,
     "grade_id": "cell-7368367ae633aef9",
     "locked": false,
     "schema_version": 3,
     "solution": true
    }
   },
   "outputs": [],
   "source": [
    "class SevereLackOfPartiesError(ValueError):\n",
    "    \n",
    "    ''' Used to indicate attributes that does not make any sense which may be caused by the writer's severe lack of parties. '''"
   ]
  },
  {
   "cell_type": "code",
   "execution_count": 25,
   "metadata": {
    "deletable": false,
    "editable": false,
    "execution": {
     "iopub.execute_input": "2021-03-13T21:32:51.053563Z",
     "iopub.status.busy": "2021-03-13T21:32:51.053125Z",
     "iopub.status.idle": "2021-03-13T21:32:51.054541Z",
     "shell.execute_reply": "2021-03-13T21:32:51.055002Z"
    },
    "nbgrader": {
     "cell_type": "code",
     "checksum": "cad0d281c8ce7afd2d351a6336678daf",
     "grade": true,
     "grade_id": "cell-78f404be90d25d2e",
     "locked": true,
     "points": 0.5,
     "schema_version": 3,
     "solution": false
    }
   },
   "outputs": [],
   "source": [
    "### BEGIN HIDDEN TESTS\n",
    "assert issubclass(SevereLackOfPartiesError, ValueError)\n",
    "### END HIDDEN TESTS"
   ]
  },
  {
   "cell_type": "code",
   "execution_count": 26,
   "metadata": {
    "deletable": false,
    "editable": false,
    "execution": {
     "iopub.execute_input": "2021-03-13T21:32:51.057206Z",
     "iopub.status.busy": "2021-03-13T21:32:51.056768Z",
     "iopub.status.idle": "2021-03-13T21:32:51.058167Z",
     "shell.execute_reply": "2021-03-13T21:32:51.058622Z"
    },
    "nbgrader": {
     "cell_type": "code",
     "checksum": "f5e7f602382c3458e7239f7d74c37579",
     "grade": true,
     "grade_id": "cell-1b63d2e6166363a1",
     "locked": true,
     "points": 0.25,
     "schema_version": 3,
     "solution": false
    }
   },
   "outputs": [],
   "source": [
    "### BEGIN HIDDEN TESTS\n",
    "assert SevereLackOfPartiesError.__doc__\n",
    "### END HIDDEN TESTS"
   ]
  },
  {
   "cell_type": "code",
   "execution_count": 27,
   "metadata": {
    "deletable": false,
    "editable": false,
    "execution": {
     "iopub.execute_input": "2021-03-13T21:32:51.061055Z",
     "iopub.status.busy": "2021-03-13T21:32:51.060602Z",
     "iopub.status.idle": "2021-03-13T21:32:51.062677Z",
     "shell.execute_reply": "2021-03-13T21:32:51.062216Z"
    },
    "nbgrader": {
     "cell_type": "code",
     "checksum": "3172cb37834b180dc94bb28323e34041",
     "grade": true,
     "grade_id": "cell-ebc6c2afbc97b842",
     "locked": true,
     "points": 0.25,
     "schema_version": 3,
     "solution": false,
     "task": false
    }
   },
   "outputs": [],
   "source": [
    "### BEGIN HIDDEN TESTS\n",
    "assert len(SevereLackOfPartiesError.__doc__) > 0\n",
    "### END HIDDEN TESTS"
   ]
  },
  {
   "cell_type": "markdown",
   "metadata": {
    "deletable": false,
    "editable": false,
    "nbgrader": {
     "cell_type": "markdown",
     "checksum": "eeadec35584b817d12c6edb5bcadebe9",
     "grade": false,
     "grade_id": "cell-62f4a3711318b2a8",
     "locked": true,
     "schema_version": 3,
     "solution": false
    }
   },
   "source": [
    "**Q**: Create a class `Str` that subclasses `str`. Add a method to the subclass that checks if the string does not start with a given string. Call that method `notstartswith`. This class should only take up 3 lines of code however you will not be graded on the length of your class.\n",
    "\n",
    "[1 point]"
   ]
  },
  {
   "cell_type": "code",
   "execution_count": 28,
   "metadata": {
    "deletable": false,
    "execution": {
     "iopub.execute_input": "2021-03-13T21:32:51.065553Z",
     "iopub.status.busy": "2021-03-13T21:32:51.065113Z",
     "iopub.status.idle": "2021-03-13T21:32:51.066640Z",
     "shell.execute_reply": "2021-03-13T21:32:51.067096Z"
    },
    "nbgrader": {
     "cell_type": "code",
     "checksum": "0569698aab4c3f483e5bcf7a37832f19",
     "grade": false,
     "grade_id": "cell-931411951b8973e6",
     "locked": false,
     "schema_version": 3,
     "solution": true
    }
   },
   "outputs": [],
   "source": [
    "class Str(str):\n",
    "    \n",
    "    def __init__(self, content):\n",
    "        self.content=str(content)\n",
    "        \n",
    "    def notstartswith(self,given_string):\n",
    "        return not self.content.startswith(given_string)"
   ]
  },
  {
   "cell_type": "code",
   "execution_count": 29,
   "metadata": {
    "deletable": false,
    "editable": false,
    "execution": {
     "iopub.execute_input": "2021-03-13T21:32:51.069437Z",
     "iopub.status.busy": "2021-03-13T21:32:51.069017Z",
     "iopub.status.idle": "2021-03-13T21:32:51.070340Z",
     "shell.execute_reply": "2021-03-13T21:32:51.070798Z"
    },
    "nbgrader": {
     "cell_type": "code",
     "checksum": "56462fa08a037ca76f92e98f75ac04dd",
     "grade": true,
     "grade_id": "cell-dde9e6cf99caf6bc",
     "locked": true,
     "points": 0.34,
     "schema_version": 3,
     "solution": false
    }
   },
   "outputs": [],
   "source": [
    "### BEGIN HIDDEN TESTS\n",
    "assert issubclass(Str, str)\n",
    "### END HIDDEN TESTS"
   ]
  },
  {
   "cell_type": "markdown",
   "metadata": {},
   "source": []
  },
  {
   "cell_type": "code",
   "execution_count": 30,
   "metadata": {
    "deletable": false,
    "editable": false,
    "execution": {
     "iopub.execute_input": "2021-03-13T21:32:51.073256Z",
     "iopub.status.busy": "2021-03-13T21:32:51.072743Z",
     "iopub.status.idle": "2021-03-13T21:32:51.074200Z",
     "shell.execute_reply": "2021-03-13T21:32:51.074661Z"
    },
    "nbgrader": {
     "cell_type": "code",
     "checksum": "cd85c2ee6a4ac72b12db6fb4743a1a32",
     "grade": true,
     "grade_id": "cell-767d16e4e70c6601",
     "locked": true,
     "points": 0.33,
     "schema_version": 3,
     "solution": false
    }
   },
   "outputs": [],
   "source": [
    "### BEGIN HIDDEN TESTS\n",
    "assert Str('This string does not ...').notstartswith('Hi')\n",
    "### END HIDDEN TESTS"
   ]
  },
  {
   "cell_type": "code",
   "execution_count": 31,
   "metadata": {
    "deletable": false,
    "editable": false,
    "execution": {
     "iopub.execute_input": "2021-03-13T21:32:51.077263Z",
     "iopub.status.busy": "2021-03-13T21:32:51.076503Z",
     "iopub.status.idle": "2021-03-13T21:32:51.077920Z",
     "shell.execute_reply": "2021-03-13T21:32:51.078381Z"
    },
    "nbgrader": {
     "cell_type": "code",
     "checksum": "2692cf5f6795e8653e21dc750f7d6f5d",
     "grade": true,
     "grade_id": "cell-7f7773df3332732e",
     "locked": true,
     "points": 0.33,
     "schema_version": 3,
     "solution": false
    }
   },
   "outputs": [],
   "source": [
    "### BEGIN HIDDEN TESTS\n",
    "assert not Str('This string does not ...').notstartswith('This')\n",
    "### END HIDDEN TESTS"
   ]
  },
  {
   "cell_type": "markdown",
   "metadata": {
    "collapsed": true,
    "deletable": false,
    "editable": false,
    "nbgrader": {
     "cell_type": "markdown",
     "checksum": "d9411146bbcd56b62ae9f019b5a308e1",
     "grade": false,
     "grade_id": "cell-27a4aba0217b0a56",
     "locked": true,
     "schema_version": 3,
     "solution": false
    }
   },
   "source": [
    "**Q**: Create a `BankAccount` class that is instantiated with an account number and an optional initial balance. Add methods to withdraw and deposit to the account's balance. Also, add a method that allows for the casting of objects of this class to a string.\n",
    "\n",
    "```python\n",
    "a = BankAccount(12345678, balance=10)\n",
    "a.deposit(5)\n",
    "a.withdraw(3)\n",
    "str(a)\n",
    "\n",
    "'Account ID: 12345678 - Balance: 12'\n",
    "```\n",
    "\n",
    "[2 points]"
   ]
  },
  {
   "cell_type": "code",
   "execution_count": 32,
   "metadata": {
    "deletable": false,
    "execution": {
     "iopub.execute_input": "2021-03-13T21:32:51.081777Z",
     "iopub.status.busy": "2021-03-13T21:32:51.081354Z",
     "iopub.status.idle": "2021-03-13T21:32:51.082833Z",
     "shell.execute_reply": "2021-03-13T21:32:51.083300Z"
    },
    "nbgrader": {
     "cell_type": "code",
     "checksum": "930e1a812c6e126d08992fdd2b29bc82",
     "grade": false,
     "grade_id": "cell-31e546afd67a9412",
     "locked": false,
     "schema_version": 3,
     "solution": true
    }
   },
   "outputs": [],
   "source": [
    "class BankAccount:\n",
    "    \n",
    "    def __init__(self,accountNumber, **kwargs):\n",
    "        self.accountNumber = accountNumber\n",
    "        if kwargs == dict():\n",
    "            self.balance=0\n",
    "        else:\n",
    "            self.balance = kwargs.get('balance')\n",
    "        \n",
    "    def deposit(self, money):\n",
    "        self.balance += money\n",
    "        \n",
    "    def withdraw(self, money):\n",
    "        self.balance -= money\n",
    "        \n",
    "    def __str__(self):\n",
    "        return f'Account ID: {self.accountNumber} - Balance: {self.balance}'"
   ]
  },
  {
   "cell_type": "code",
   "execution_count": 33,
   "metadata": {
    "deletable": false,
    "editable": false,
    "execution": {
     "iopub.execute_input": "2021-03-13T21:32:51.085733Z",
     "iopub.status.busy": "2021-03-13T21:32:51.085205Z",
     "iopub.status.idle": "2021-03-13T21:32:51.086608Z",
     "shell.execute_reply": "2021-03-13T21:32:51.087065Z"
    },
    "nbgrader": {
     "cell_type": "code",
     "checksum": "4412aac77537b6d4580d899fa4d27ad9",
     "grade": true,
     "grade_id": "cell-78f78a2ea5d08b99",
     "locked": true,
     "points": 0.25,
     "schema_version": 3,
     "solution": false
    }
   },
   "outputs": [],
   "source": [
    "### BEGIN TESTS\n",
    "assert str(BankAccount(4839283, balance=2010)) == 'Account ID: 4839283 - Balance: 2010'\n",
    "### END TESTS"
   ]
  },
  {
   "cell_type": "code",
   "execution_count": 34,
   "metadata": {
    "deletable": false,
    "editable": false,
    "execution": {
     "iopub.execute_input": "2021-03-13T21:32:51.089311Z",
     "iopub.status.busy": "2021-03-13T21:32:51.088830Z",
     "iopub.status.idle": "2021-03-13T21:32:51.090361Z",
     "shell.execute_reply": "2021-03-13T21:32:51.090822Z"
    },
    "nbgrader": {
     "cell_type": "code",
     "checksum": "83cd2587a9765a39a30a0cf6118144af",
     "grade": true,
     "grade_id": "cell-4de2527d92d58164",
     "locked": true,
     "points": 0.25,
     "schema_version": 3,
     "solution": false,
     "task": false
    }
   },
   "outputs": [],
   "source": [
    "### BEGIN TESTS\n",
    "assert hasattr(BankAccount, '__str__')\n",
    "### END TESTS"
   ]
  },
  {
   "cell_type": "code",
   "execution_count": 35,
   "metadata": {
    "deletable": false,
    "editable": false,
    "execution": {
     "iopub.execute_input": "2021-03-13T21:32:51.093051Z",
     "iopub.status.busy": "2021-03-13T21:32:51.092612Z",
     "iopub.status.idle": "2021-03-13T21:32:51.094055Z",
     "shell.execute_reply": "2021-03-13T21:32:51.094509Z"
    },
    "nbgrader": {
     "cell_type": "code",
     "checksum": "1f4ff98636c79c1b9a7285e67f6ed811",
     "grade": true,
     "grade_id": "cell-e706bb44eae7db75",
     "locked": true,
     "points": 0.25,
     "schema_version": 3,
     "solution": false
    }
   },
   "outputs": [],
   "source": [
    "### BEGIN TESTS\n",
    "assert BankAccount(1).balance == 0\n",
    "### END TESTS"
   ]
  },
  {
   "cell_type": "code",
   "execution_count": 36,
   "metadata": {
    "deletable": false,
    "editable": false,
    "execution": {
     "iopub.execute_input": "2021-03-13T21:32:51.096696Z",
     "iopub.status.busy": "2021-03-13T21:32:51.096279Z",
     "iopub.status.idle": "2021-03-13T21:32:51.097748Z",
     "shell.execute_reply": "2021-03-13T21:32:51.098200Z"
    },
    "nbgrader": {
     "cell_type": "code",
     "checksum": "eff61116c9ab21c0445163e128679de7",
     "grade": true,
     "grade_id": "cell-64c5f7b45a14a431",
     "locked": true,
     "points": 0.25,
     "schema_version": 3,
     "solution": false,
     "task": false
    }
   },
   "outputs": [],
   "source": [
    "### BEGIN TESTS\n",
    "assert hasattr(BankAccount(1), 'balance')\n",
    "### END TESTS"
   ]
  },
  {
   "cell_type": "code",
   "execution_count": 37,
   "metadata": {
    "deletable": false,
    "editable": false,
    "execution": {
     "iopub.execute_input": "2021-03-13T21:32:51.100422Z",
     "iopub.status.busy": "2021-03-13T21:32:51.099988Z",
     "iopub.status.idle": "2021-03-13T21:32:51.101434Z",
     "shell.execute_reply": "2021-03-13T21:32:51.101888Z"
    },
    "nbgrader": {
     "cell_type": "code",
     "checksum": "7d47cf114b25a3eab69e18e82a0b017f",
     "grade": true,
     "grade_id": "cell-d69d7f2056853513",
     "locked": true,
     "points": 0.25,
     "schema_version": 3,
     "solution": false,
     "task": false
    }
   },
   "outputs": [],
   "source": [
    "### BEGIN TESTS\n",
    "assert not hasattr(BankAccount, 'balance')\n",
    "### END TESTS"
   ]
  },
  {
   "cell_type": "code",
   "execution_count": 38,
   "metadata": {
    "deletable": false,
    "editable": false,
    "execution": {
     "iopub.execute_input": "2021-03-13T21:32:51.104241Z",
     "iopub.status.busy": "2021-03-13T21:32:51.103810Z",
     "iopub.status.idle": "2021-03-13T21:32:51.105229Z",
     "shell.execute_reply": "2021-03-13T21:32:51.105689Z"
    },
    "nbgrader": {
     "cell_type": "code",
     "checksum": "f530c5de310fe117519f828c6a147cbe",
     "grade": true,
     "grade_id": "cell-da11f9aeadad2c39",
     "locked": true,
     "points": 0.25,
     "schema_version": 3,
     "solution": false
    }
   },
   "outputs": [],
   "source": [
    "### BEGIN TESTS\n",
    "a = BankAccount(1)\n",
    "a.deposit(150)\n",
    "assert a.balance == 150\n",
    "### END TESTS"
   ]
  },
  {
   "cell_type": "code",
   "execution_count": 39,
   "metadata": {
    "deletable": false,
    "editable": false,
    "execution": {
     "iopub.execute_input": "2021-03-13T21:32:51.108195Z",
     "iopub.status.busy": "2021-03-13T21:32:51.107712Z",
     "iopub.status.idle": "2021-03-13T21:32:51.109160Z",
     "shell.execute_reply": "2021-03-13T21:32:51.109614Z"
    },
    "nbgrader": {
     "cell_type": "code",
     "checksum": "b8173739d67e49e7c9403f347a6839b1",
     "grade": true,
     "grade_id": "cell-0f6bc2f6bd8c7a9c",
     "locked": true,
     "points": 0.5,
     "schema_version": 3,
     "solution": false
    }
   },
   "outputs": [],
   "source": [
    "### BEGIN TESTS\n",
    "a = BankAccount(1, balance=150)\n",
    "a.withdraw(27)\n",
    "assert a.balance == 123\n",
    "### END TESTS"
   ]
  },
  {
   "cell_type": "markdown",
   "metadata": {
    "deletable": false,
    "editable": false,
    "nbgrader": {
     "cell_type": "markdown",
     "checksum": "579319a22fae72e515c8f748efb59003",
     "grade": false,
     "grade_id": "cell-9edfb04d2e47b86d",
     "locked": true,
     "schema_version": 3,
     "solution": false
    }
   },
   "source": [
    "**Q**: Subclass the `BankAccount` class from the previous question to create a `MinBalanceBankAccount` class. This class should require a minimum balance at all times and should raise an exception (of the type `ValueError`) when an attempt to drop the balance below the minumum occurs. The `MinBalanceBankAccount` should be instantiated with the account number, inital balance, and the minimum balance. No error checking against the minimum balance is necessary upon instantiation.\n",
    "\n",
    "```python\n",
    "a = MinBalanceBankAccount(account_id=1, balance=100, minimum_balance=10)\n",
    "a.withdraw(100)\n",
    "...\n",
    "ValueError: Sorry, minimum balance must be maintained.\n",
    "```\n",
    "\n",
    "If raised, the `ValueError` should have the message: 'Sorry, minimum balance must be maintained.'\n",
    "\n",
    "*A minimum of extra code should be implemented* in `__init__` and `withdraw` to meet the requirements of this question. Ie. use `super`!\n",
    "\n",
    "[2 points]"
   ]
  },
  {
   "cell_type": "code",
   "execution_count": 40,
   "metadata": {
    "deletable": false,
    "execution": {
     "iopub.execute_input": "2021-03-13T21:32:51.112683Z",
     "iopub.status.busy": "2021-03-13T21:32:51.112244Z",
     "iopub.status.idle": "2021-03-13T21:32:51.113742Z",
     "shell.execute_reply": "2021-03-13T21:32:51.114212Z"
    },
    "nbgrader": {
     "cell_type": "code",
     "checksum": "6267acaf34f3096c30d8acf7292dd0a4",
     "grade": false,
     "grade_id": "cell-ffede70c71976fef",
     "locked": false,
     "schema_version": 3,
     "solution": true
    }
   },
   "outputs": [],
   "source": [
    "class MinBalanceBankAccount(BankAccount):\n",
    "    \n",
    "    def __init__(self, accountNumber, inital_balance, min_balance):\n",
    "        super().__init__(accountNumber)\n",
    "        self.min_balance = min_balance\n",
    "        self.balance = inital_balance\n",
    "        \n",
    "    def withdraw(self, money):\n",
    "        if self.balance - money < self.min_balance:\n",
    "            raise ValueError('Sorry, minimum balance must be maintained.')\n",
    "        self.balance -=  money"
   ]
  },
  {
   "cell_type": "code",
   "execution_count": 41,
   "metadata": {
    "deletable": false,
    "editable": false,
    "execution": {
     "iopub.execute_input": "2021-03-13T21:32:51.116895Z",
     "iopub.status.busy": "2021-03-13T21:32:51.116455Z",
     "iopub.status.idle": "2021-03-13T21:32:51.117841Z",
     "shell.execute_reply": "2021-03-13T21:32:51.118300Z"
    },
    "nbgrader": {
     "cell_type": "code",
     "checksum": "a09865c9e0b13ec8e82fb220a87d647c",
     "grade": true,
     "grade_id": "cell-21fda7b0a6a440d5",
     "locked": true,
     "points": 0.25,
     "schema_version": 3,
     "solution": false,
     "task": false
    }
   },
   "outputs": [],
   "source": [
    "### BEGIN TESTS\n",
    "try:\n",
    "    MinBalanceBankAccount(1, 100, 10).withdraw(100)\n",
    "    assert False, 'Should have raised value Error'\n",
    "except ValueError as e:\n",
    "    pass\n",
    "### END TESTS"
   ]
  },
  {
   "cell_type": "code",
   "execution_count": 42,
   "metadata": {
    "deletable": false,
    "editable": false,
    "execution": {
     "iopub.execute_input": "2021-03-13T21:32:51.120916Z",
     "iopub.status.busy": "2021-03-13T21:32:51.120466Z",
     "iopub.status.idle": "2021-03-13T21:32:51.121936Z",
     "shell.execute_reply": "2021-03-13T21:32:51.122398Z"
    },
    "nbgrader": {
     "cell_type": "code",
     "checksum": "d30e29803cde3c612d6ade78e9293d73",
     "grade": true,
     "grade_id": "cell-4d189116d6cb3d51",
     "locked": true,
     "points": 0.25,
     "schema_version": 3,
     "solution": false
    }
   },
   "outputs": [],
   "source": [
    "### BEGIN TESTS\n",
    "try:\n",
    "    MinBalanceBankAccount(1, 100, 10).withdraw(100)\n",
    "    assert False, 'Should have raised value Error'\n",
    "except ValueError as e:\n",
    "    assert str(e) == 'Sorry, minimum balance must be maintained.'\n",
    "### END TESTS"
   ]
  },
  {
   "cell_type": "code",
   "execution_count": 43,
   "metadata": {
    "deletable": false,
    "editable": false,
    "execution": {
     "iopub.execute_input": "2021-03-13T21:32:51.124839Z",
     "iopub.status.busy": "2021-03-13T21:32:51.124399Z",
     "iopub.status.idle": "2021-03-13T21:32:51.125773Z",
     "shell.execute_reply": "2021-03-13T21:32:51.126230Z"
    },
    "nbgrader": {
     "cell_type": "code",
     "checksum": "4dbf4f4046c1ee92cd1a49a6b9cbffb8",
     "grade": true,
     "grade_id": "cell-496de9ecb2b38244",
     "locked": true,
     "points": 0.25,
     "schema_version": 3,
     "solution": false
    }
   },
   "outputs": [],
   "source": [
    "### BEGIN HIDDEN TESTS\n",
    "assert 'super' in MinBalanceBankAccount.__dict__['__init__'].__code__.co_names\n",
    "### END HIDDEN TESTS"
   ]
  },
  {
   "cell_type": "code",
   "execution_count": 44,
   "metadata": {
    "deletable": false,
    "editable": false,
    "execution": {
     "iopub.execute_input": "2021-03-13T21:32:51.128744Z",
     "iopub.status.busy": "2021-03-13T21:32:51.128300Z",
     "iopub.status.idle": "2021-03-13T21:32:51.201520Z",
     "shell.execute_reply": "2021-03-13T21:32:51.202027Z"
    },
    "nbgrader": {
     "cell_type": "code",
     "checksum": "158da29935640d4f585c2ed6d3e32e94",
     "grade": true,
     "grade_id": "cell-2d6c5e93ce362aa9",
     "locked": true,
     "points": 0.25,
     "schema_version": 3,
     "solution": false,
     "task": false
    }
   },
   "outputs": [
    {
     "ename": "AssertionError",
     "evalue": "",
     "output_type": "error",
     "traceback": [
      "\u001b[0;31m---------------------------------------------------------------------------\u001b[0m",
      "\u001b[0;31mAssertionError\u001b[0m                            Traceback (most recent call last)",
      "\u001b[0;32m<ipython-input-1-2373a11adcc7>\u001b[0m in \u001b[0;36m<module>\u001b[0;34m\u001b[0m\n\u001b[1;32m      1\u001b[0m \u001b[0;31m### BEGIN HIDDEN TESTS\u001b[0m\u001b[0;34m\u001b[0m\u001b[0;34m\u001b[0m\u001b[0;34m\u001b[0m\u001b[0m\n\u001b[0;32m----> 2\u001b[0;31m \u001b[0;32massert\u001b[0m \u001b[0;34m'super'\u001b[0m \u001b[0;32min\u001b[0m \u001b[0mMinBalanceBankAccount\u001b[0m\u001b[0;34m.\u001b[0m\u001b[0m__dict__\u001b[0m\u001b[0;34m[\u001b[0m\u001b[0;34m'withdraw'\u001b[0m\u001b[0;34m]\u001b[0m\u001b[0;34m.\u001b[0m\u001b[0m__code__\u001b[0m\u001b[0;34m.\u001b[0m\u001b[0mco_names\u001b[0m\u001b[0;34m\u001b[0m\u001b[0;34m\u001b[0m\u001b[0m\n\u001b[0m\u001b[1;32m      3\u001b[0m \u001b[0;31m### END HIDDEN TESTS\u001b[0m\u001b[0;34m\u001b[0m\u001b[0;34m\u001b[0m\u001b[0;34m\u001b[0m\u001b[0m\n",
      "\u001b[0;31mAssertionError\u001b[0m: "
     ]
    }
   ],
   "source": [
    "### BEGIN HIDDEN TESTS\n",
    "assert 'super' in MinBalanceBankAccount.__dict__['withdraw'].__code__.co_names\n",
    "### END HIDDEN TESTS"
   ]
  },
  {
   "cell_type": "code",
   "execution_count": 45,
   "metadata": {
    "deletable": false,
    "editable": false,
    "execution": {
     "iopub.execute_input": "2021-03-13T21:32:51.204732Z",
     "iopub.status.busy": "2021-03-13T21:32:51.204325Z",
     "iopub.status.idle": "2021-03-13T21:32:51.205927Z",
     "shell.execute_reply": "2021-03-13T21:32:51.206353Z"
    },
    "nbgrader": {
     "cell_type": "code",
     "checksum": "2d2347ada3f20a03e8c073f0fdbe5cf9",
     "grade": true,
     "grade_id": "cell-74b6dba911c7df84",
     "locked": true,
     "points": 0.5,
     "schema_version": 3,
     "solution": false
    }
   },
   "outputs": [],
   "source": [
    "### BEGIN TESTS\n",
    "assert issubclass(MinBalanceBankAccount, BankAccount)\n",
    "### END TESTS"
   ]
  },
  {
   "cell_type": "code",
   "execution_count": 46,
   "metadata": {
    "deletable": false,
    "editable": false,
    "execution": {
     "iopub.execute_input": "2021-03-13T21:32:51.209223Z",
     "iopub.status.busy": "2021-03-13T21:32:51.208815Z",
     "iopub.status.idle": "2021-03-13T21:32:51.210432Z",
     "shell.execute_reply": "2021-03-13T21:32:51.210856Z"
    },
    "nbgrader": {
     "cell_type": "code",
     "checksum": "51ecf2ef6528b0747fb5d9bbfd2e4787",
     "grade": true,
     "grade_id": "cell-3d7deeb06f900ce3",
     "locked": true,
     "points": 0.5,
     "schema_version": 3,
     "solution": false
    }
   },
   "outputs": [],
   "source": [
    "### BEGIN TESTS\n",
    "a = MinBalanceBankAccount(1, 100, 10)\n",
    "a.deposit(150)\n",
    "a.withdraw(27)\n",
    "assert a.balance == 223\n",
    "### END TESTS"
   ]
  },
  {
   "cell_type": "markdown",
   "metadata": {
    "collapsed": true,
    "deletable": false,
    "editable": false,
    "nbgrader": {
     "cell_type": "markdown",
     "checksum": "76924c68a0396178149fc95edc9a6589",
     "grade": false,
     "grade_id": "cell-ce9019a436d61d6a",
     "locked": true,
     "schema_version": 3,
     "solution": false
    }
   },
   "source": [
    "**Extra Practice** Create a class that produces objects that are both iterables and iterators. "
   ]
  },
  {
   "cell_type": "code",
   "execution_count": 47,
   "metadata": {
    "deletable": false,
    "execution": {
     "iopub.execute_input": "2021-03-13T21:32:51.213521Z",
     "iopub.status.busy": "2021-03-13T21:32:51.212960Z",
     "iopub.status.idle": "2021-03-13T21:32:51.215109Z",
     "shell.execute_reply": "2021-03-13T21:32:51.215584Z"
    },
    "nbgrader": {
     "cell_type": "code",
     "checksum": "cb022eb42bbff76853c44cde00c4d6e8",
     "grade": false,
     "grade_id": "cell-acfb6cbf62089d2f",
     "locked": false,
     "schema_version": 3,
     "solution": true
    }
   },
   "outputs": [
    {
     "ename": "IndentationError",
     "evalue": "expected an indented block (<ipython-input-1-559c84af744e>, line 3)",
     "output_type": "error",
     "traceback": [
      "\u001b[0;36m  File \u001b[0;32m\"<ipython-input-1-559c84af744e>\"\u001b[0;36m, line \u001b[0;32m3\u001b[0m\n\u001b[0;31m    raise NotImplementedError()\u001b[0m\n\u001b[0m    ^\u001b[0m\n\u001b[0;31mIndentationError\u001b[0m\u001b[0;31m:\u001b[0m expected an indented block\n"
     ]
    }
   ],
   "source": [
    "class MyRange:\n",
    "# YOUR CODE HERE\n",
    "raise NotImplementedError()"
   ]
  },
  {
   "cell_type": "code",
   "execution_count": 48,
   "metadata": {
    "deletable": false,
    "editable": false,
    "execution": {
     "iopub.execute_input": "2021-03-13T21:32:51.218094Z",
     "iopub.status.busy": "2021-03-13T21:32:51.217649Z",
     "iopub.status.idle": "2021-03-13T21:32:51.221809Z",
     "shell.execute_reply": "2021-03-13T21:32:51.222343Z"
    },
    "nbgrader": {
     "cell_type": "code",
     "checksum": "c9d600e3fa4d7873b10fc5802c703370",
     "grade": true,
     "grade_id": "cell-ef5f590e0182d168",
     "locked": true,
     "points": 0,
     "schema_version": 3,
     "solution": false
    }
   },
   "outputs": [
    {
     "ename": "NameError",
     "evalue": "name 'MyRange' is not defined",
     "output_type": "error",
     "traceback": [
      "\u001b[0;31m---------------------------------------------------------------------------\u001b[0m",
      "\u001b[0;31mNameError\u001b[0m                                 Traceback (most recent call last)",
      "\u001b[0;32m<ipython-input-1-68c70b891a16>\u001b[0m in \u001b[0;36m<module>\u001b[0;34m\u001b[0m\n\u001b[1;32m      1\u001b[0m \u001b[0;31m### BEGIN TESTS\u001b[0m\u001b[0;34m\u001b[0m\u001b[0;34m\u001b[0m\u001b[0;34m\u001b[0m\u001b[0m\n\u001b[0;32m----> 2\u001b[0;31m \u001b[0;32massert\u001b[0m \u001b[0mlist\u001b[0m\u001b[0;34m(\u001b[0m\u001b[0mMyRange\u001b[0m\u001b[0;34m(\u001b[0m\u001b[0;36m1\u001b[0m\u001b[0;34m,\u001b[0m \u001b[0;36m5\u001b[0m\u001b[0;34m)\u001b[0m\u001b[0;34m)\u001b[0m \u001b[0;34m==\u001b[0m \u001b[0;34m[\u001b[0m\u001b[0;36m1\u001b[0m\u001b[0;34m,\u001b[0m \u001b[0;36m2\u001b[0m\u001b[0;34m,\u001b[0m \u001b[0;36m3\u001b[0m\u001b[0;34m,\u001b[0m \u001b[0;36m4\u001b[0m\u001b[0;34m]\u001b[0m\u001b[0;34m,\u001b[0m \u001b[0mlist\u001b[0m\u001b[0;34m(\u001b[0m\u001b[0mMyRange\u001b[0m\u001b[0;34m(\u001b[0m\u001b[0;36m1\u001b[0m\u001b[0;34m,\u001b[0m \u001b[0;36m5\u001b[0m\u001b[0;34m)\u001b[0m\u001b[0;34m)\u001b[0m\u001b[0;34m\u001b[0m\u001b[0;34m\u001b[0m\u001b[0m\n\u001b[0m\u001b[1;32m      3\u001b[0m \u001b[0;31m### END TESTS\u001b[0m\u001b[0;34m\u001b[0m\u001b[0;34m\u001b[0m\u001b[0;34m\u001b[0m\u001b[0m\n",
      "\u001b[0;31mNameError\u001b[0m: name 'MyRange' is not defined"
     ]
    }
   ],
   "source": [
    "### BEGIN TESTS\n",
    "assert list(MyRange(1, 5)) == [1, 2, 3, 4], list(MyRange(1, 5))\n",
    "### END TESTS"
   ]
  },
  {
   "cell_type": "code",
   "execution_count": null,
   "metadata": {},
   "outputs": [],
   "source": []
  }
 ],
 "metadata": {
  "anaconda-cloud": {},
  "kernelspec": {
   "display_name": "Python 3",
   "language": "python",
   "name": "python3"
  },
  "language_info": {
   "codemirror_mode": {
    "name": "ipython",
    "version": 3
   },
   "file_extension": ".py",
   "mimetype": "text/x-python",
   "name": "python",
   "nbconvert_exporter": "python",
   "pygments_lexer": "ipython3",
   "version": "3.9.1"
  }
 },
 "nbformat": 4,
 "nbformat_minor": 1
}
